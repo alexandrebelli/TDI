{
 "cells": [
  {
   "cell_type": "markdown",
   "id": "c73724fb",
   "metadata": {},
   "source": [
    "# defaultdict"
   ]
  },
  {
   "cell_type": "code",
   "execution_count": 15,
   "id": "0615d390",
   "metadata": {},
   "outputs": [
    {
     "data": {
      "text/plain": [
       "[(' ', 41),\n",
       " (',', 6),\n",
       " ('-', 1),\n",
       " ('.', 2),\n",
       " (':', 1),\n",
       " ('A', 1),\n",
       " ('C', 1),\n",
       " ('P', 1),\n",
       " ('W', 1),\n",
       " ('a', 15),\n",
       " ('b', 2),\n",
       " ('c', 15),\n",
       " ('d', 10),\n",
       " ('e', 24),\n",
       " ('f', 3),\n",
       " ('h', 8),\n",
       " ('i', 15),\n",
       " ('k', 2),\n",
       " ('l', 14),\n",
       " ('m', 7),\n",
       " ('n', 12),\n",
       " ('o', 17),\n",
       " ('p', 5),\n",
       " ('r', 9),\n",
       " ('s', 14),\n",
       " ('t', 25),\n",
       " ('u', 15),\n",
       " ('v', 2),\n",
       " ('w', 3),\n",
       " ('y', 3),\n",
       " ('z', 1)]"
      ]
     },
     "execution_count": 15,
     "metadata": {},
     "output_type": "execute_result"
    }
   ],
   "source": [
    "import collections\n",
    "\n",
    "some_txt = 'collections: While you can accomplish much with Python s built-in data structures such as list, tuple, dict, and set, the collection module provides some specialized data structures that make your life more convenient. A few to know about are Counter, namedtuple, defaultdict.'\n",
    "d = collections.defaultdict(int)\n",
    "for k in some_txt:\n",
    "    d[k] += 1\n",
    "\n",
    "sorted(d.items())\n"
   ]
  },
  {
   "cell_type": "code",
   "execution_count": 16,
   "id": "306f1b52",
   "metadata": {},
   "outputs": [
    {
     "data": {
      "text/plain": [
       "[(' ', 41), ('t', 25), ('e', 24), ('o', 17), ('c', 15)]"
      ]
     },
     "execution_count": 16,
     "metadata": {},
     "output_type": "execute_result"
    }
   ],
   "source": [
    "collections.Counter(some_txt).most_common(5)\n"
   ]
  },
  {
   "cell_type": "code",
   "execution_count": 19,
   "id": "65f9f5de",
   "metadata": {},
   "outputs": [
    {
     "data": {
      "text/plain": [
       "Counter({1: 4, 3: 6, 5: 1, 8: 1, 7: 1, 55: 1, 22: 1, 44: 1, 23: 1, 21: 1})"
      ]
     },
     "execution_count": 19,
     "metadata": {},
     "output_type": "execute_result"
    }
   ],
   "source": [
    "lst = [1,3,3,3,3,3,3,5,8,7,55,22,44,23,21,1,1,1]\n",
    "collections.Counter(lst)#.most_common(2)"
   ]
  },
  {
   "cell_type": "code",
   "execution_count": 32,
   "id": "db155f04",
   "metadata": {},
   "outputs": [
    {
     "name": "stdout",
     "output_type": "stream",
     "text": [
      "(0, 1)\n",
      "(1, 3)\n",
      "(2, 3)\n",
      "(3, 3)\n",
      "(4, 3)\n",
      "(5, 3)\n",
      "(6, 3)\n",
      "(7, 5)\n",
      "(8, 8)\n",
      "(9, 7)\n",
      "(10, 55)\n",
      "(11, 22)\n",
      "(12, 44)\n",
      "(13, 23)\n",
      "(14, 21)\n",
      "(15, 1)\n",
      "(16, 1)\n",
      "(17, 1)\n"
     ]
    },
    {
     "data": {
      "text/plain": [
       "(17, 1)"
      ]
     },
     "execution_count": 32,
     "metadata": {},
     "output_type": "execute_result"
    }
   ],
   "source": [
    "import itertools as it\n",
    "\n",
    "for i in zip(it.count(0,1),lst):\n",
    "    print(i)\n"
   ]
  },
  {
   "cell_type": "code",
   "execution_count": null,
   "id": "ff061b57",
   "metadata": {},
   "outputs": [],
   "source": []
  },
  {
   "cell_type": "code",
   "execution_count": null,
   "id": "e5530deb",
   "metadata": {},
   "outputs": [],
   "source": []
  }
 ],
 "metadata": {
  "kernelspec": {
   "display_name": "Python 3",
   "language": "python",
   "name": "python3"
  },
  "language_info": {
   "codemirror_mode": {
    "name": "ipython",
    "version": 3
   },
   "file_extension": ".py",
   "mimetype": "text/x-python",
   "name": "python",
   "nbconvert_exporter": "python",
   "pygments_lexer": "ipython3",
   "version": "3.8.8"
  }
 },
 "nbformat": 4,
 "nbformat_minor": 5
}
